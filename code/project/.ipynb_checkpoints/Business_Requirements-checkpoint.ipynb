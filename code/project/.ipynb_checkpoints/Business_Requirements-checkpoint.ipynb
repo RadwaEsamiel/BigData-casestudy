{
 "cells": [
  {
   "cell_type": "code",
   "execution_count": 1,
   "id": "77da381e-6224-43f7-9836-4b1105ab00b9",
   "metadata": {},
   "outputs": [],
   "source": [
    "from pyspark.sql import SparkSession\n",
    "\n",
    "spark = SparkSession \\\n",
    "    .builder \\\n",
    "    .appName(\"Hive Query Example\") \\\n",
    "    .config(\"spark.sql.warehouse.dir\", \"/user/hive/warehouse\") \\\n",
    "    .enableHiveSupport() \\\n",
    "    .getOrCreate()"
   ]
  },
  {
   "cell_type": "code",
   "execution_count": 2,
   "id": "20845f58-9826-46f3-82a0-1e31d9c20556",
   "metadata": {
    "tags": []
   },
   "outputs": [
    {
     "name": "stdout",
     "output_type": "stream",
     "text": [
      "Most Selling Products:\n",
      "+----------+-----------------+----------------+\n",
      "|product_id|     product_name|total_units_sold|\n",
      "+----------+-----------------+----------------+\n",
      "|        22|     Coffee Maker|          251658|\n",
      "|        25|  Washing Machine|          209196|\n",
      "|        16|            Skirt|          207393|\n",
      "|        29|Hair Straightener|          190096|\n",
      "|         7|            Dress|          187128|\n",
      "|        11|               TV|          183752|\n",
      "|        19|          Sandals|          182744|\n",
      "|         9|            Boots|          181675|\n",
      "|        24|          Blender|          179452|\n",
      "|        17|           Blouse|          178602|\n",
      "|        27|             Iron|          173329|\n",
      "|         6|            Jeans|          172216|\n",
      "|         5|          T-Shirt|          166782|\n",
      "|        23|          Toaster|          166665|\n",
      "|        13|          Printer|          164248|\n",
      "|        28|       Hair Dryer|          162360|\n",
      "|         1|           Laptop|          156927|\n",
      "|         4|       Headphones|          155373|\n",
      "|        26|   Vacuum Cleaner|          154212|\n",
      "|        18|            Boots|          153153|\n",
      "+----------+-----------------+----------------+\n",
      "only showing top 20 rows\n",
      "\n"
     ]
    }
   ],
   "source": [
    "# SQL query to get the most selling products\n",
    "\n",
    "most_selling_products_query = \"\"\"\n",
    "SELECT t.product_id, p.product_name, SUM(t.units) AS total_units_sold\n",
    "FROM BigData_DWH.Transactions_Fact_table t\n",
    "JOIN BigData_DWH.products_dimension p\n",
    "ON t.product_id = p.product_id\n",
    "GROUP BY t.product_id, p.product_name\n",
    "ORDER BY total_units_sold DESC\n",
    "\"\"\"\n",
    "\n",
    "most_selling_products = spark.sql(most_selling_products_query)\n",
    "\n",
    "print(\"Most Selling Products:\")\n",
    "most_selling_products.show()"
   ]
  },
  {
   "cell_type": "code",
   "execution_count": 3,
   "id": "4448de9d-4e4d-4398-b50f-521a31ead031",
   "metadata": {},
   "outputs": [
    {
     "name": "stdout",
     "output_type": "stream",
     "text": [
      "Most Redeemed Offers from Customers:\n",
      "+-------+-----------------+\n",
      "|  offer|total_redemptions|\n",
      "+-------+-----------------+\n",
      "|offer_4|              494|\n",
      "|offer_3|              459|\n",
      "|offer_2|              444|\n",
      "|offer_5|              434|\n",
      "|offer_1|              427|\n",
      "+-------+-----------------+\n",
      "\n"
     ]
    }
   ],
   "source": [
    "# Most Redeemed Offers from Customers\n",
    "most_redeemed_offers_query = \"\"\"\n",
    "SELECT offer, COUNT(*) AS total_redemptions\n",
    "FROM BigData_DWH.orders_dimension\n",
    "WHERE offer IS NOT NULL\n",
    "GROUP BY offer\n",
    "ORDER BY total_redemptions DESC\n",
    "\"\"\"\n",
    "\n",
    "most_redeemed_offers = spark.sql(most_redeemed_offers_query)\n",
    "\n",
    "print(\"Most Redeemed Offers from Customers:\")\n",
    "most_redeemed_offers.show()\n"
   ]
  },
  {
   "cell_type": "code",
   "execution_count": 4,
   "id": "ec70644e-91a1-42eb-a40c-f49c3becb42d",
   "metadata": {},
   "outputs": [
    {
     "name": "stdout",
     "output_type": "stream",
     "text": [
      "Most Redeemed Offers per Product:\n",
      "+----------+-----------------+-------+-----------------+\n",
      "|product_id|     product_name|  offer|total_redemptions|\n",
      "+----------+-----------------+-------+-----------------+\n",
      "|        11|               TV|offer_4|             7416|\n",
      "|        24|          Blender|offer_5|             6293|\n",
      "|        19|          Sandals|offer_4|             6148|\n",
      "|        29|Hair Straightener|offer_4|             5886|\n",
      "|         5|          T-Shirt|offer_1|             5852|\n",
      "|        22|     Coffee Maker|offer_3|             5658|\n",
      "|        23|          Toaster|offer_5|             5125|\n",
      "|        25|  Washing Machine|offer_2|             4914|\n",
      "|         6|            Jeans|offer_1|             4738|\n",
      "|        25|  Washing Machine|offer_3|             4680|\n",
      "|        22|     Coffee Maker|offer_1|             4674|\n",
      "|        22|     Coffee Maker|offer_4|             4674|\n",
      "|         2|       Smartphone|offer_4|             4650|\n",
      "|        16|            Skirt|offer_4|             4599|\n",
      "|        29|Hair Straightener|offer_3|             4578|\n",
      "|         7|            Dress|offer_5|             4554|\n",
      "|         7|            Dress|offer_4|             4554|\n",
      "|        20|            Heels|offer_3|             4536|\n",
      "|        26|   Vacuum Cleaner|offer_3|             4525|\n",
      "|         8|         Sneakers|offer_4|             4416|\n",
      "+----------+-----------------+-------+-----------------+\n",
      "only showing top 20 rows\n",
      "\n"
     ]
    }
   ],
   "source": [
    "# Most Redeemed Offers per Product\n",
    "most_redeemed_offers_per_product_query = \"\"\"\n",
    "SELECT p.product_id, p.product_name, o.offer, COUNT(*) AS total_redemptions\n",
    "FROM BigData_DWH.orders_dimension o\n",
    "JOIN BigData_DWH.Transactions_Fact_table t ON o.transaction_id = t.transaction_id\n",
    "JOIN BigData_DWH.products_dimension p ON t.product_id = p.product_id\n",
    "WHERE o.offer IS NOT NULL\n",
    "GROUP BY p.product_id, p.product_name, o.offer\n",
    "ORDER BY total_redemptions DESC\n",
    "\"\"\"\n",
    "\n",
    "most_redeemed_offers_per_product = spark.sql(most_redeemed_offers_per_product_query)\n",
    "\n",
    "print(\"Most Redeemed Offers per Product:\")\n",
    "most_redeemed_offers_per_product.show()"
   ]
  },
  {
   "cell_type": "code",
   "execution_count": 5,
   "id": "7acf168b-7e74-4ade-83c8-7661cfc9ce45",
   "metadata": {},
   "outputs": [
    {
     "name": "stdout",
     "output_type": "stream",
     "text": [
      "Cities with the lowest online sales:\n",
      "+-----------+------------------+\n",
      "|       city|total_online_sales|\n",
      "+-----------+------------------+\n",
      "|Smartsville|             19.99|\n",
      "| Northfield|            19.992|\n",
      "|   Franklin|            59.985|\n",
      "|    Reading|            67.473|\n",
      "| Marshfield| 67.47749999999999|\n",
      "|   Falmouth| 75.96199999999999|\n",
      "|   Redlands|            95.968|\n",
      "|  Castleton| 99.94999999999999|\n",
      "|    Fortuna|           101.966|\n",
      "|     Dublin|           107.964|\n",
      "+-----------+------------------+\n",
      "\n"
     ]
    }
   ],
   "source": [
    "online_sales_summary_query = \"\"\"\n",
    "SELECT city, SUM(Total_price_after_discount) AS total_online_sales\n",
    "FROM (\n",
    "    SELECT split(split(orders_dimension.shipping_address, '/')[1], ' ')[0] AS city, \n",
    "           t.Total_price_after_discount\n",
    "    FROM BigData_DWH.orders_dimension\n",
    "    JOIN BigData_DWH.Transactions_Fact_table t ON orders_dimension.transaction_id = t.transaction_id\n",
    "    WHERE orders_dimension.is_online = 'yes'\n",
    ") combined_df\n",
    "GROUP BY city\n",
    "ORDER BY total_online_sales ASC\n",
    "LIMIT 10\n",
    "\"\"\"\n",
    "\n",
    "online_sales_summary_result = spark.sql(online_sales_summary_query)\n",
    "\n",
    "print(\"Cities with the lowest online sales:\")\n",
    "online_sales_summary_result.show()"
   ]
  },
  {
   "cell_type": "code",
   "execution_count": 6,
   "id": "b8f65bdb-d9e2-4cad-af4b-2924d206ad78",
   "metadata": {},
   "outputs": [],
   "source": [
    "# Stop Spark session\n",
    "spark.stop()"
   ]
  },
  {
   "cell_type": "code",
   "execution_count": null,
   "id": "14c5d42c-59c6-422c-ad27-3f704d32ece1",
   "metadata": {},
   "outputs": [],
   "source": []
  }
 ],
 "metadata": {
  "kernelspec": {
   "display_name": "Pyspark 3",
   "language": "python",
   "name": "pyspark3"
  },
  "language_info": {
   "codemirror_mode": {
    "name": "ipython",
    "version": 3
   },
   "file_extension": ".py",
   "mimetype": "text/x-python",
   "name": "python",
   "nbconvert_exporter": "python",
   "pygments_lexer": "ipython3",
   "version": "3.6.9"
  }
 },
 "nbformat": 4,
 "nbformat_minor": 5
}
