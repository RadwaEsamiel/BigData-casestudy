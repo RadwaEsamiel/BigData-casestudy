{
 "cells": [
  {
   "cell_type": "code",
   "execution_count": 1,
   "id": "4cca2329-8031-4dce-9e9d-24943002e09c",
   "metadata": {},
   "outputs": [],
   "source": [
    "from pyspark.sql import SparkSession\n",
    "from pyspark.sql.functions import sum as spark_sum, col\n",
    "from datetime import datetime, timedelta\n",
    "import os\n",
    "import subprocess"
   ]
  },
  {
   "cell_type": "code",
   "execution_count": 2,
   "id": "960e5790-f114-464c-8a12-6f926367a211",
   "metadata": {},
   "outputs": [],
   "source": [
    "# Initialize Spark session\n",
    "spark = SparkSession.builder \\\n",
    "    .appName(\"Daily Dump Generation\") \\\n",
    "    .enableHiveSupport() \\\n",
    "    .getOrCreate()"
   ]
  },
  {
   "cell_type": "code",
   "execution_count": 3,
   "id": "4f281b10-bb82-4b86-9d19-148ec498823d",
   "metadata": {},
   "outputs": [
    {
     "name": "stdout",
     "output_type": "stream",
     "text": [
      "+------------------+---------------+----------------+\n",
      "|  sales_agent_name|   product_name|total_sold_units|\n",
      "+------------------+---------------+----------------+\n",
      "|      Olivia Davis|        Monitor|            3744|\n",
      "|Christopher Miller|         Hoodie|            1848|\n",
      "|         john wick|     Headphones|             800|\n",
      "|      David Wilson|     Smartphone|            5152|\n",
      "|   Michael Johnson|          Skirt|            1700|\n",
      "|   Michael Johnson|Washing Machine|            4940|\n",
      "|      David Wilson|         Hoodie|            3432|\n",
      "|   Daniel Martinez|          Heels|            3800|\n",
      "|      Sophia Moore|         Blouse|            4536|\n",
      "|      Olivia Davis|         Laptop|            2538|\n",
      "|   Daniel Martinez|          Jeans|            3248|\n",
      "|       Emma Taylor| Vacuum Cleaner|            4116|\n",
      "|   Michael Johnson|          Jeans|            2688|\n",
      "|         john wick|         Blouse|            3456|\n",
      "|       Emily Brown|   Coffee Maker|            8640|\n",
      "|        Jane Smith|Electric Kettle|            2184|\n",
      "|      Sophia Moore|          Heels|            3500|\n",
      "|      David Wilson|       Sneakers|             924|\n",
      "|       Emma Taylor|        T-Shirt|            2352|\n",
      "|         john wick|          Jeans|             896|\n",
      "+------------------+---------------+----------------+\n",
      "only showing top 20 rows\n",
      "\n"
     ]
    }
   ],
   "source": [
    "# Define the SQL query\n",
    "sql_query = \"\"\"\n",
    "    SELECT \n",
    "        a.sales_person_name AS sales_agent_name, \n",
    "        p.product_name, \n",
    "        SUM(t.units) AS total_sold_units\n",
    "    FROM \n",
    "        BigData_DWH.Transactions_Fact_table t\n",
    "    JOIN \n",
    "        BigData_DWH.sales_agents_dimension a ON t.sales_person_id = a.sales_person_id\n",
    "    JOIN \n",
    "        BigData_DWH.products_dimension p ON t.product_id = p.product_id\n",
    "    GROUP BY \n",
    "        a.sales_person_name, \n",
    "        p.product_name, \n",
    "        t.sales_person_id, \n",
    "        t.product_id\n",
    "\"\"\"\n",
    "\n",
    "# Execute the query and store the result in a DataFrame\n",
    "result_df = spark.sql(sql_query)\n",
    "\n",
    "# Drop duplicates\n",
    "distinct_df = result_df.distinct()\n",
    "\n",
    "# Show results\n",
    "distinct_df.show()\n"
   ]
  },
  {
   "cell_type": "code",
   "execution_count": 4,
   "id": "f3106a0a-05be-4aa3-b87a-6780c0886e49",
   "metadata": {},
   "outputs": [],
   "source": [
    "previous_day = (datetime.now() - timedelta(days=1)).strftime(\"%Y-%m-%d\")"
   ]
  },
  {
   "cell_type": "code",
   "execution_count": 5,
   "id": "0d6be773-68f8-4093-b7c7-10acc81eef63",
   "metadata": {},
   "outputs": [],
   "source": [
    "output_hdfs_path = f\"/user/itversity/daily_dump/{previous_day}\""
   ]
  },
  {
   "cell_type": "code",
   "execution_count": 6,
   "id": "b1868dba-c871-4021-b19e-9509c0bbc0b7",
   "metadata": {},
   "outputs": [],
   "source": [
    "# Write the DataFrame to CSV in HDFS\n",
    "distinct_df.coalesce(1).write.mode(\"overwrite\").csv(output_hdfs_path, header=True)"
   ]
  },
  {
   "cell_type": "code",
   "execution_count": 7,
   "id": "a03ef8de-e93e-47d8-bda6-ef0b3ae257ef",
   "metadata": {},
   "outputs": [
    {
     "name": "stdout",
     "output_type": "stream",
     "text": [
      "\n",
      "Directory '/user/itversity/daily_dump/2024-07-05' copied successfully to 'daily_dump'.\n"
     ]
    }
   ],
   "source": [
    "local_output_path = \"daily_dump\"\n",
    "\n",
    "# Copy the directory from HDFS to the local file system\n",
    "copy_command = ['hadoop', 'fs', '-get', '-f', output_hdfs_path, local_output_path]\n",
    "\n",
    "try:\n",
    "    copy_result = subprocess.run(copy_command, stdout=subprocess.PIPE, stderr=subprocess.PIPE, check=True)\n",
    "    print(copy_result.stdout.decode())\n",
    "    print(f\"Directory '{output_hdfs_path}' copied successfully to '{local_output_path}'.\")\n",
    "except subprocess.CalledProcessError as e:\n",
    "    print(f\"Error copying directory: {e.stderr.decode()}\")"
   ]
  },
  {
   "cell_type": "code",
   "execution_count": 8,
   "id": "24cb4f41-3685-4982-8ba2-78c89ca9cc72",
   "metadata": {},
   "outputs": [],
   "source": [
    "# Stop Spark session\n",
    "spark.stop()"
   ]
  },
  {
   "cell_type": "code",
   "execution_count": null,
   "id": "df2f6b88-4b71-4089-b3b8-bc9c031e26ee",
   "metadata": {},
   "outputs": [],
   "source": []
  }
 ],
 "metadata": {
  "kernelspec": {
   "display_name": "Pyspark 3",
   "language": "python",
   "name": "pyspark3"
  },
  "language_info": {
   "codemirror_mode": {
    "name": "ipython",
    "version": 3
   },
   "file_extension": ".py",
   "mimetype": "text/x-python",
   "name": "python",
   "nbconvert_exporter": "python",
   "pygments_lexer": "ipython3",
   "version": "3.6.9"
  }
 },
 "nbformat": 4,
 "nbformat_minor": 5
}
