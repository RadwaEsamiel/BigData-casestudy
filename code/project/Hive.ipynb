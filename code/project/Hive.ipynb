{
 "cells": [
  {
   "cell_type": "code",
   "execution_count": null,
   "id": "e0dd2201-5a3d-46de-b12b-8e817d8a4dab",
   "metadata": {},
   "outputs": [],
   "source": [
    "from pyspark.sql import SparkSession\n"
   ]
  },
  {
   "cell_type": "code",
   "execution_count": null,
   "id": "7bfc1637-fe7d-4f3a-9440-36152f2ad6c6",
   "metadata": {},
   "outputs": [],
   "source": [
    "# Initialize Spark session\n",
    "spark = SparkSession.builder \\\n",
    "    .appName(\"Hive Table Creation\") \\\n",
    "    .enableHiveSupport() \\\n",
    "    .getOrCreate()"
   ]
  },
  {
   "cell_type": "code",
   "execution_count": null,
   "id": "d7ab16bb-aacd-499b-a181-4298feb5d448",
   "metadata": {},
   "outputs": [],
   "source": [
    "def create_and_verify_table(create_table_query, table_name, schema_name):\n",
    "    try:\n",
    "        # Drop table if it exists\n",
    "        spark.sql(f\"DROP TABLE IF EXISTS {schema_name}.{table_name}\")\n",
    "        \n",
    "        # Create new table with schema\n",
    "        full_create_query = f\"CREATE TABLE {schema_name}.{table_name} {create_table_query} STORED AS PARQUET\"\n",
    "        spark.sql(full_create_query)\n",
    "        \n",
    "        # Verify table creation\n",
    "        table_exists = spark.sql(f\"SHOW TABLES IN {schema_name} LIKE '{table_name}'\").count() > 0\n",
    "        if table_exists:\n",
    "            print(f\"Success: Table '{schema_name}.{table_name}' created successfully.\")\n",
    "        else:\n",
    "            print(f\"Failure: Table '{schema_name}.{table_name}' creation failed.\")\n",
    "    except Exception as e:\n",
    "        print(f\"Error creating table '{schema_name}.{table_name}': {e}\")"
   ]
  },
  {
   "cell_type": "code",
   "execution_count": null,
   "id": "d9cb0725-be96-4af5-802d-91b0196aef83",
   "metadata": {},
   "outputs": [],
   "source": [
    "spark.sql(\"CREATE DATABASE IF NOT EXISTS BigData_DWH\")"
   ]
  },
  {
   "cell_type": "code",
   "execution_count": null,
   "id": "5cd7bf90-9410-4aa8-bda4-2b2833afa9c1",
   "metadata": {},
   "outputs": [],
   "source": [
    "# Example usage\n",
    "create_and_verify_table(\"\"\"\n",
    "    (\n",
    "        branch_id STRING,\n",
    "        location STRING,\n",
    "        establish_date STRING,\n",
    "        class STRING\n",
    "    )\n",
    "\"\"\", \"branches_dimension\", \"BigData_DWH\")"
   ]
  },
  {
   "cell_type": "code",
   "execution_count": null,
   "id": "840e0918-f8a1-4af6-9a8b-6962ba7cf250",
   "metadata": {},
   "outputs": [],
   "source": [
    "create_and_verify_table(\"\"\"\n",
    "    (\n",
    "        sales_person_id STRING,\n",
    "        sales_person_name STRING,\n",
    "        hire_date STRING\n",
    "    )\n",
    "\"\"\", \"sales_agents_dimension\", \"BigData_DWH\")\n"
   ]
  },
  {
   "cell_type": "code",
   "execution_count": null,
   "id": "c94f7203-63cc-4ab0-891b-fc3a01ec89bf",
   "metadata": {},
   "outputs": [],
   "source": [
    "\n",
    "create_and_verify_table (\"\"\"\n",
    "    (\n",
    "        transaction_id STRING,\n",
    "        customer_id STRING,\n",
    "        sales_person_id STRING,\n",
    "        branch_id STRING,\n",
    "        product_id STRING,\n",
    "        units INT,\n",
    "        Total_price DOUBLE, \n",
    "        discount_percentage DOUBLE,\n",
    "        Total_price_after_discount DOUBLE\n",
    "    )\n",
    "    PARTITIONED BY (transaction_date STRING)\n",
    "\"\"\", \"Transactions_Fact_table\", \"BigData_DWH\")\n"
   ]
  },
  {
   "cell_type": "code",
   "execution_count": null,
   "id": "8648be3b-53a1-4a37-a907-2a1ce4ae6187",
   "metadata": {},
   "outputs": [],
   "source": [
    "create_and_verify_table(\"\"\"\n",
    "    (\n",
    "        customer_id STRING,\n",
    "        customer_fname STRING,\n",
    "        customer_lname STRING,\n",
    "        customer_email STRING\n",
    "    )\n",
    "\"\"\", \"customers_dimension\", \"BigData_DWH\")\n"
   ]
  },
  {
   "cell_type": "code",
   "execution_count": null,
   "id": "8c2acf5d-27f3-4f70-ab4f-456905b4ba97",
   "metadata": {},
   "outputs": [],
   "source": [
    "create_and_verify_table(\"\"\"\n",
    "    (\n",
    "        product_id STRING,\n",
    "        product_name STRING,\n",
    "        product_category STRING\n",
    "    )\n",
    "\"\"\", \"products_dimension\", \"BigData_DWH\")\n"
   ]
  },
  {
   "cell_type": "code",
   "execution_count": null,
   "id": "44ca8396-4951-41a0-b9e7-12fc7340a8ea",
   "metadata": {},
   "outputs": [],
   "source": [
    "create_and_verify_table(\"\"\"\n",
    "    (\n",
    "        transaction_id STRING,\n",
    "        unit_price STRING,\n",
    "        is_online STRING,\n",
    "        payment_method STRING,\n",
    "        shipping_address STRING,\n",
    "        offer STRING\n",
    "    )\n",
    "\"\"\", \"orders_dimension\", \"BigData_DWH\")\n"
   ]
  },
  {
   "cell_type": "code",
   "execution_count": null,
   "id": "bc6604d2-7d4a-420b-aa92-28a9047bae44",
   "metadata": {},
   "outputs": [],
   "source": [
    "# Stop Spark session\n",
    "spark.stop()"
   ]
  },
  {
   "cell_type": "code",
   "execution_count": null,
   "id": "e9868d64-8a2c-4abe-8d4b-d16a3f7ef764",
   "metadata": {},
   "outputs": [],
   "source": [
    "spark.sql(\"DROP TABLE IF EXISTS BigData_DWH.branches_dimension\")\n",
    "spark.sql(\"DROP TABLE IF EXISTS BigData_DWH.sales_agents_dimension\")\n",
    "spark.sql(\"DROP TABLE IF EXISTS BigData_DWH.Transactions_Fact_table\")\n",
    "spark.sql(\"DROP TABLE IF EXISTS BigData_DWH.customers_dimension\")\n",
    "spark.sql(\"DROP TABLE IF EXISTS BigData_DWH.products_dimension\")\n",
    "spark.sql(\"DROP TABLE IF EXISTS BigData_DWH.orders_dimension\")\n"
   ]
  },
  {
   "cell_type": "code",
   "execution_count": null,
   "id": "48b00926-c388-42b9-b72b-14f565ba9dee",
   "metadata": {},
   "outputs": [],
   "source": [
    "spark.sql(\"DROP DATABASE IF EXISTS BigData_DWH\")\n"
   ]
  },
  {
   "cell_type": "code",
   "execution_count": null,
   "id": "ad0168b8-b557-4fa6-8687-a853f0bfbecc",
   "metadata": {},
   "outputs": [],
   "source": []
  }
 ],
 "metadata": {
  "kernelspec": {
   "display_name": "Pyspark 2",
   "language": "python",
   "name": "pyspark2"
  },
  "language_info": {
   "codemirror_mode": {
    "name": "ipython",
    "version": 3
   },
   "file_extension": ".py",
   "mimetype": "text/x-python",
   "name": "python",
   "nbconvert_exporter": "python",
   "pygments_lexer": "ipython3",
   "version": "3.6.9"
  }
 },
 "nbformat": 4,
 "nbformat_minor": 5
}
