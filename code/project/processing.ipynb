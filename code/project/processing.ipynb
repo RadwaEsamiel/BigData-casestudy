{
 "cells": [
  {
   "cell_type": "code",
   "execution_count": 1,
   "id": "b9f76d78-0753-4c09-8217-a3dbcac54a05",
   "metadata": {},
   "outputs": [],
   "source": [
    "from pyspark.sql import SparkSession\n",
    "from datetime import datetime, timedelta\n",
    "import os\n"
   ]
  },
  {
   "cell_type": "code",
   "execution_count": 2,
   "id": "4c690cc6-958a-4f48-b7a9-6cdcba3243ef",
   "metadata": {},
   "outputs": [],
   "source": [
    "spark = SparkSession.builder \\\n",
    "    .appName(\"Data Processing and Insertion\") \\\n",
    "    .enableHiveSupport() \\\n",
    "    .getOrCreate()"
   ]
  },
  {
   "cell_type": "code",
   "execution_count": 3,
   "id": "f1524bd7-b61f-44ba-8de0-9eec3fdec305",
   "metadata": {},
   "outputs": [],
   "source": [
    "# Define base HDFS directory\n",
    "base_hdfs_dir = \"/user/itversity/raw_layer\""
   ]
  },
  {
   "cell_type": "code",
   "execution_count": 4,
   "id": "e8004add-0cff-4204-a723-c050c732c11f",
   "metadata": {},
   "outputs": [],
   "source": [
    "# Calculate current date and previous hour\n",
    "current_dt = datetime.now()\n",
    "\n",
    "# Handle special case when current time is 12am (midnight)\n",
    "if current_dt.hour == 0:\n",
    "    # Adjust processing date to previous day\n",
    "    processing_date = (current_dt - timedelta(days=1)).strftime(\"%Y%m%d\")\n",
    "    prev_hour_str = \"23\"  # Previous hour is 11pm\n",
    "else:\n",
    "    processing_date = current_dt.strftime(\"%Y%m%d\")\n",
    "    prev_hour_str = (current_dt - timedelta(hours=1)).strftime(\"%H\")"
   ]
  },
  {
   "cell_type": "code",
   "execution_count": 5,
   "id": "7838f786-f62f-439f-9f20-fe63d3f5a35f",
   "metadata": {},
   "outputs": [],
   "source": [
    "# Construct input path in HDFS\n",
    "input_dir_pattern = f\"{base_hdfs_dir}/{processing_date}/{prev_hour_str}_*\"\n",
    "\n",
    "# Get all directories matching the input pattern\n",
    "fs = spark._jvm.org.apache.hadoop.fs.FileSystem.get(spark._jsc.hadoopConfiguration())\n",
    "input_dirs = [status.getPath().toString() for status in fs.globStatus(spark._jvm.org.apache.hadoop.fs.Path(input_dir_pattern))]\n"
   ]
  },
  {
   "cell_type": "code",
   "execution_count": 6,
   "id": "201f9300-3332-4488-8df0-f9f516ec9390",
   "metadata": {},
   "outputs": [],
   "source": [
    "# Lists to store DataFrames for each category\n",
    "branches_dfs = []\n",
    "agents_dfs = []\n",
    "transactions_dfs = []"
   ]
  },
  {
   "cell_type": "code",
   "execution_count": 7,
   "id": "cb840d80-a7f1-41a5-8e9c-2cc2b2077a20",
   "metadata": {},
   "outputs": [],
   "source": [
    "# Load existing data from Hive tables\n",
    "branches_hive_df = spark.table(\"BigData_DWH.branches_dimension\")\n",
    "agents_hive_df = spark.table(\"BigData_DWH.sales_agents_dimension\")\n",
    "transactions_hive_df = spark.table(\"BigData_DWH.Transactions_Fact_table\")"
   ]
  },
  {
   "cell_type": "code",
   "execution_count": 8,
   "id": "edde9fe4-f5d8-463f-ac75-d09885dedf2a",
   "metadata": {
    "tags": []
   },
   "outputs": [
    {
     "name": "stdout",
     "output_type": "stream",
     "text": [
      "DataFrame from _01_20240706.csv:\n",
      "+---------+-----------+--------------+-----+\n",
      "|branch_id|   location|establish_date|class|\n",
      "+---------+-----------+--------------+-----+\n",
      "|        1|   New York|    2017-01-15|    A|\n",
      "|        2|Los Angeles|    2016-07-28|    B|\n",
      "|        3|    Chicago|    2015-03-10|    A|\n",
      "|        4|    Houston|    2016-11-05|    D|\n",
      "|        5|    Phoenix|    2017-09-20|    C|\n",
      "+---------+-----------+--------------+-----+\n",
      "\n",
      "DataFrame from branches_SS_raw_1_01_20240706.csv:\n",
      "+---------+-----------+--------------+-----+\n",
      "|branch_id|   location|establish_date|class|\n",
      "+---------+-----------+--------------+-----+\n",
      "|        1|   New York|    2017-01-15|    A|\n",
      "|        2|Los Angeles|    2016-07-28|    B|\n",
      "|        3|    Chicago|    2015-03-10|    A|\n",
      "|        4|    Houston|    2016-11-05|    D|\n",
      "|        5|    Phoenix|    2017-09-20|    C|\n",
      "+---------+-----------+--------------+-----+\n",
      "\n",
      "DataFrame from sales_agents_SS_raw_1_01_20240706.csv:\n",
      "+---------------+------------------+----------+\n",
      "|sales_person_id|              name| hire_date|\n",
      "+---------------+------------------+----------+\n",
      "|              1|          John Doe|  2020-6-3|\n",
      "|              2|        Jane Smith| 2018-5-13|\n",
      "|              3|   Michael Johnson| 2021-10-3|\n",
      "|              4|       Emily Brown|2020-10-25|\n",
      "|              5|      David Wilson|  2021-4-8|\n",
      "|              6|       Emma Taylor| 2019-3-28|\n",
      "|              7|Christopher Miller| 2020-1-11|\n",
      "|              8|      Olivia Davis|2021-10-24|\n",
      "|              9|   Daniel Martinez| 2018-10-8|\n",
      "|             10|      Sophia Moore| 2019-5-25|\n",
      "+---------------+------------------+----------+\n",
      "\n",
      "DataFrame from sales_transactions_SS_raw_1_01_20240706.csv:\n",
      "+----------------+----------------+-----------+--------------+--------------+--------------------+--------------+---------+----------+---------------+----------------+-------+-------+-------+-------+-------+-----+----------+---------+--------------+----------------+\n",
      "|transaction_date|  transaction_id|customer_id|customer_fname|cusomter_lname|      cusomter_email|sales_agent_id|branch_id|product_id|   product_name|product_category|offer_1|offer_2|offer_3|offer_4|offer_5|units|unit_price|is_online|payment_method|shipping_address|\n",
      "+----------------+----------------+-----------+--------------+--------------+--------------------+--------------+---------+----------+---------------+----------------+-------+-------+-------+-------+-------+-----+----------+---------+--------------+----------------+\n",
      "|       2023-5-20|trx-152546429674|      85469|     Alexander|         Brown|alexander.brown@g...|             1|        2|        22|   Coffee Maker|      Appliances|   null|   null|   null|   null|   null|   10|     79.99|       no|          Cash|            null|\n",
      "|      2022-10-25|trx-291375327542|      85512|       William|         Brown|william.brown@gma...|             3|        1|        24|        Blender|      Appliances|   null|   null|   null|   True|   null|    5|     49.99|       no|          Cash|            null|\n",
      "|        2022-2-5|trx-312507679871|      85484|          John|      Williams|john.williams@gma...|            10|        3|         4|     Headphones|     Electronics|   null|   null|   null|   null|   null|    1|     99.99|       no|   Credit Card|            null|\n",
      "|      2023-10-20|trx-193384855491|      85528|     Alexander|        Miller|alexander.miller@...|             7|        2|        25|Washing Machine|      Appliances|   null|   null|   null|   null|   null|    8|    499.99|       no|          Cash|            null|\n",
      "|      2022-11-17|trx-831626097654|      85500|          John|         Brown|john.brown@hotmai...|             5|        1|        14|         Camera|     Electronics|   null|   null|   True|   null|   null|   10|    399.99|       no|          Cash|            null|\n",
      "|       2022-9-27|trx-158496122054|      85545|        Sophia|        Wilson|sophia.wilson@hot...|             4|        5|        14|         Camera|     Electronics|   null|   null|   null|   null|   True|    6|    399.99|       no|   Credit Card|            null|\n",
      "|       2022-4-21|trx-722817999024|      85561|     Alexander|         Moore|alexander.moore@y...|             4|        1|        30|Electric Kettle|      Appliances|   null|   null|   null|   True|   null|    6|     24.99|       no|   Credit Card|            null|\n",
      "|       2023-4-28|trx-813287633702|      85520|     Alexander|        Wilson|alexander.wilson@...|             1|        1|        26| Vacuum Cleaner|      Appliances|   null|   null|   null|   null|   null|    4|    199.99|       no|          Cash|            null|\n",
      "|        2023-3-8|trx-219568257432|      85488|       Michael|        Miller|michael.miller@ya...|             6|        2|        18|          Boots|        Footwear|   null|   null|   null|   null|   null|   10|    149.99|       no|   Credit Card|            null|\n",
      "|       2023-6-17|trx-352160720823|      85466|       Michael|         Brown|michael.brown@yah...|             5|        2|        16|          Skirt|        Clothing|   null|   null|   null|   null|   null|    8|     39.99|       no|          Cash|            null|\n",
      "|       2022-8-28|trx-895389231641|      85559|          John|        Taylor|john.taylor@yahoo...|             6|        5|        14|         Camera|     Electronics|   null|   null|   null|   null|   null|    6|    399.99|       no|          Cash|            null|\n",
      "|      2023-11-19|trx-820309386661|      85527|     Alexander|         Davis|alexander.davis@y...|             7|        2|        22|   Coffee Maker|      Appliances|   null|   null|   null|   null|   null|    6|     79.99|       no|   Credit Card|            null|\n",
      "|       2022-3-22|trx-974983174642|      85502|       Michael|         Brown|michael.brown@hot...|             4|        5|         5|        T-Shirt|        Clothing|   True|   null|   null|   null|   null|   10|     19.99|       no|          Cash|            null|\n",
      "|       2022-9-27|trx-119174604031|      85508|         James|         Smith|james.smith@yahoo...|             1|        3|         9|          Boots|        Footwear|   null|   null|   null|   null|   null|    1|    129.99|       no|   Credit Card|            null|\n",
      "|        2022-4-3|trx-474525094645|      85549|          Emma|       Johnson|emma.johnson@hotm...|             2|        3|         2|     Smartphone|     Electronics|   null|   null|   null|   null|   null|    9|    699.99|       no|   Credit Card|            null|\n",
      "|      2022-12-14|trx-355633008132|      85483|          John|       Johnson|john.johnson@yaho...|             9|        5|        27|           Iron|      Appliances|   null|   True|   null|   null|   null|    9|     29.99|       no|   Credit Card|            null|\n",
      "|       2023-4-14|trx-490311940006|      85496|         James|         Davis|james.davis@yahoo...|             8|        2|        19|        Sandals|        Footwear|   null|   True|   null|   null|   null|    2|     29.99|       no|   Credit Card|            null|\n",
      "|       2023-1-19|trx-132205124356|      85507|           Ava|        Miller|ava.miller@outloo...|             2|        2|        28|     Hair Dryer|      Appliances|   null|   null|   null|   null|   null|    3|     19.99|       no|          Cash|            null|\n",
      "|      2023-10-14|trx-276319959382|      85543|        Olivia|         Brown|olivia.brown@outl...|            10|        5|        24|        Blender|      Appliances|   null|   null|   null|   null|   null|   10|     49.99|       no|          Cash|            null|\n",
      "|       2022-3-24|trx-024853282614|      85518|        Sophia|         Brown|sophia.brown@gmai...|             1|        4|         3|         Tablet|     Electronics|   null|   null|   True|   null|   null|    1|    299.99|       no|          Cash|            null|\n",
      "+----------------+----------------+-----------+--------------+--------------+--------------------+--------------+---------+----------+---------------+----------------+-------+-------+-------+-------+-------+-----+----------+---------+--------------+----------------+\n",
      "only showing top 20 rows\n",
      "\n"
     ]
    }
   ],
   "source": [
    "for input_dir in input_dirs:\n",
    "    # Read all files in the directory\n",
    "    input_files = [status.getPath().toString() for status in fs.listStatus(spark._jvm.org.apache.hadoop.fs.Path(input_dir))]\n",
    "\n",
    "    for input_file in input_files:\n",
    "        # Extract the file name from the input path\n",
    "        input_file_name = os.path.basename(input_file)\n",
    "\n",
    "        # Read the DataFrame from CSV\n",
    "        df = spark.read.format(\"csv\").option(\"header\", \"true\").load(input_file)\n",
    "\n",
    "        # Show the DataFrame (for verification)\n",
    "        print(f\"DataFrame from {input_file_name}:\")\n",
    "        df.show()\n",
    "\n",
    "        # Determine DataFrame name based on file name content\n",
    "        if \"branches\" in input_file_name.lower():\n",
    "            branches_dfs.append(df)\n",
    "        elif \"agents\" in input_file_name.lower():\n",
    "            agents_dfs.append(df)\n",
    "        elif \"transactions\" in input_file_name.lower():\n",
    "            transactions_dfs.append(df)\n",
    "        else:\n",
    "            continue  # Skip processing for unknown files"
   ]
  },
  {
   "cell_type": "code",
   "execution_count": 9,
   "id": "04ab61bf-abf6-4b28-b06d-bdb3ec3eca30",
   "metadata": {
    "tags": []
   },
   "outputs": [
    {
     "name": "stdout",
     "output_type": "stream",
     "text": [
      "branches DataFrame:\n",
      "+---------+--------+--------------+-----+\n",
      "|branch_id|location|establish_date|class|\n",
      "+---------+--------+--------------+-----+\n",
      "+---------+--------+--------------+-----+\n",
      "\n"
     ]
    }
   ],
   "source": [
    "if branches_dfs:\n",
    "    branches_new_df = branches_dfs[0]\n",
    "    for df in branches_dfs[1:]:\n",
    "        branches_new_df = branches_new_df.union(df)\n",
    "\n",
    "    branches_new_df = branches_new_df.dropDuplicates()\n",
    "    branches_new_df = branches_new_df.join(branches_hive_df, on=\"branch_id\", how=\"left_anti\")\n",
    "    print(\"branches DataFrame:\")\n",
    "    branches_new_df.show()"
   ]
  },
  {
   "cell_type": "code",
   "execution_count": 10,
   "id": "7d128253-8231-4fb6-897c-cdcbab7ed1e8",
   "metadata": {
    "tags": []
   },
   "outputs": [
    {
     "name": "stdout",
     "output_type": "stream",
     "text": [
      "agents DataFrame:\n",
      "+---------------+----+---------+\n",
      "|sales_person_id|name|hire_date|\n",
      "+---------------+----+---------+\n",
      "+---------------+----+---------+\n",
      "\n"
     ]
    }
   ],
   "source": [
    "if agents_dfs:\n",
    "    agents_new_df = agents_dfs[0]\n",
    "    for df in agents_dfs[1:]:\n",
    "        agents_new_df = agents_new_df.union(df)\n",
    "\n",
    "    agents_new_df = agents_new_df.dropDuplicates()\n",
    "    agents_new_df = agents_new_df.join(agents_hive_df, on=\"sales_person_id\", how=\"left_anti\")\n",
    "    \n",
    "    print(\"agents DataFrame:\")\n",
    "    agents_new_df.show()"
   ]
  },
  {
   "cell_type": "code",
   "execution_count": 11,
   "id": "9299e97d-b21c-4cc2-aa3a-28d3357c3ba7",
   "metadata": {
    "tags": []
   },
   "outputs": [
    {
     "name": "stdout",
     "output_type": "stream",
     "text": [
      "Transactions DataFrame:\n",
      "+----------------+----------------+-----------+--------------+--------------+--------------------+--------------+---------+----------+-----------------+----------------+-------+-------+-------+-------+-------+-----+----------+---------+--------------+--------------------+\n",
      "|  transaction_id|transaction_date|customer_id|customer_fname|cusomter_lname|      cusomter_email|sales_agent_id|branch_id|product_id|     product_name|product_category|offer_1|offer_2|offer_3|offer_4|offer_5|units|unit_price|is_online|payment_method|    shipping_address|\n",
      "+----------------+----------------+-----------+--------------+--------------+--------------------+--------------+---------+----------+-----------------+----------------+-------+-------+-------+-------+-------+-----+----------+---------+--------------+--------------------+\n",
      "|trx-187320333043|       2022-7-11|      85476|         James|         Moore|james.moore@yahoo...|            10|        5|         8|         Sneakers|        Footwear|   null|   null|   null|   null|   null|    7|     79.99|       no|   Credit Card|                null|\n",
      "|trx-211908445828|        2022-8-2|      85510|         James|       Johnson|james.johnson@out...|             6|        5|        24|          Blender|      Appliances|   null|   null|   null|   null|   null|    4|     49.99|       no|   Credit Card|                null|\n",
      "|trx-504748286356|       2023-5-10|      85474|          Emma|       Johnson|emma.johnson@gmai...|          null|     null|         2|       Smartphone|     Electronics|   null|   null|   null|   null|   null|    2|    699.99|      yes|   Credit Card|104 White Street/...|\n",
      "|trx-537548137090|      2023-12-14|      85519|          John|        Wilson|john.wilson@hotma...|             9|        4|        25|  Washing Machine|      Appliances|   null|   null|   True|   null|   null|    9|    499.99|       no|          Cash|                null|\n",
      "|trx-000112360946|        2023-9-6|      85490|           Mia|        Taylor|mia.taylor@yahoo....|          null|     null|         2|       Smartphone|     Electronics|   null|   null|   null|   null|   null|    6|    699.99|      yes|        Stripe|5378 Allison Stre...|\n",
      "|trx-065786773740|       2023-2-17|      85518|        Sophia|         Brown|sophia.brown@gmai...|             9|        3|         9|            Boots|        Footwear|   null|   null|   null|   null|   null|    8|    129.99|       no|          Cash|                null|\n",
      "|trx-111359626084|       2022-3-26|      85493|         James|       Johnson|james.johnson@gma...|             8|        1|         4|       Headphones|     Electronics|   null|   True|   null|   null|   null|    5|     99.99|       no|   Credit Card|                null|\n",
      "|trx-179541605067|        2023-7-9|      85490|           Mia|        Taylor|mia.taylor@yahoo....|             2|        5|        20|            Heels|        Footwear|   True|   null|   null|   null|   null|    6|     59.99|       no|          Cash|                null|\n",
      "|trx-197477932940|        2022-4-1|      85538|         James|         Smith|james.smith@yahoo...|             7|        5|         2|       Smartphone|     Electronics|   null|   null|   null|   True|   null|   10|    699.99|       no|          Cash|                null|\n",
      "|trx-334836612567|      2022-10-18|      85479|         James|         Jones|james.jones@outlo...|          null|     null|         6|            Jeans|        Clothing|   null|   null|   True|   null|   null|    2|     49.99|      yes|        Stripe|1139 Addison Stre...|\n",
      "|trx-569727423317|       2023-3-24|      85501|          Emma|         Smith|emma.smith@gmail....|          null|     null|        29|Hair Straightener|      Appliances|   null|   null|   null|   null|   null|   10|     39.99|      yes|   Credit Card|2643 North Sierra...|\n",
      "|trx-616637928705|       2023-7-24|      85545|        Sophia|        Wilson|sophia.wilson@hot...|          null|     null|         9|            Boots|        Footwear|   True|   null|   null|   null|   null|    6|    129.99|      yes|        Stripe|1514 16th Street ...|\n",
      "|trx-716638564987|        2023-7-9|      85550|          Emma|        Taylor|emma.taylor@gmail...|             4|        2|        26|   Vacuum Cleaner|      Appliances|   null|   null|   null|   null|   null|    5|    199.99|       no|   Credit Card|                null|\n",
      "|trx-746803513484|       2022-6-18|      85529|           Mia|         Davis|mia.davis@gmail.com^|          null|     null|        26|   Vacuum Cleaner|      Appliances|   null|   null|   null|   null|   null|    8|    199.99|      yes|        Stripe|15771 West 64th A...|\n",
      "|trx-901595305127|       2023-2-13|      85506|           Ava|        Miller|ava.miller@yahoo....|          null|     null|         1|           Laptop|     Electronics|   null|   null|   null|   null|   null|    3|    999.99|      yes|   Credit Card|96 Green Manor Ro...|\n",
      "|trx-964650810363|       2023-5-21|      85551|       Michael|       Johnson|michael.johnson@y...|            10|        2|        19|          Sandals|        Footwear|   null|   null|   null|   null|   True|    7|     29.99|       no|   Credit Card|                null|\n",
      "|trx-137783890813|      2023-10-25|      85480|     Alexander|      Williams|alexander.william...|             8|        3|        24|          Blender|      Appliances|   null|   null|   null|   null|   null|    3|     49.99|       no|   Credit Card|                null|\n",
      "|trx-155004665264|       2023-12-2|      85497|       William|        Wilson|william.wilson@ya...|             1|        3|        17|           Blouse|        Clothing|   null|   null|   null|   True|   null|    2|     29.99|       no|   Credit Card|                null|\n",
      "|trx-293630405793|      2022-12-13|      85546|     Alexander|       Johnson|alexander.johnson...|             5|        5|        26|   Vacuum Cleaner|      Appliances|   null|   True|   null|   null|   null|    4|    199.99|       no|          Cash|                null|\n",
      "|trx-311063724315|       2022-3-17|      85471|           Ava|      Williams|ava.williams@outl...|          null|     null|         8|         Sneakers|        Footwear|   null|   null|   null|   True|   null|    3|     79.99|      yes|        Stripe|422 Richmond Stre...|\n",
      "+----------------+----------------+-----------+--------------+--------------+--------------------+--------------+---------+----------+-----------------+----------------+-------+-------+-------+-------+-------+-----+----------+---------+--------------+--------------------+\n",
      "only showing top 20 rows\n",
      "\n",
      "Column names:\n",
      "transaction_id\n",
      "transaction_date\n",
      "customer_id\n",
      "customer_fname\n",
      "cusomter_lname\n",
      "cusomter_email\n",
      "sales_agent_id\n",
      "branch_id\n",
      "product_id\n",
      "product_name\n",
      "product_category\n",
      "offer_1\n",
      "offer_2\n",
      "offer_3\n",
      "offer_4\n",
      "offer_5\n",
      "units\n",
      "unit_price\n",
      "is_online\n",
      "payment_method\n",
      "shipping_address\n"
     ]
    }
   ],
   "source": [
    "# Print column names of transactions_dfs\n",
    "if transactions_dfs:\n",
    "    transactions_new_df = transactions_dfs[0]\n",
    "    for df in transactions_dfs[1:]:\n",
    "        transactions_new_df = transactions_new_df.union(df)\n",
    "\n",
    "    transactions_new_df = transactions_new_df.dropDuplicates()\n",
    "    transactions_new_df = transactions_new_df.join(transactions_hive_df, on=\"transaction_id\", how=\"left_anti\")\n",
    "    \n",
    "    print(\"Transactions DataFrame:\")\n",
    "    transactions_new_df.show()\n",
    "    \n",
    "    # Get column names\n",
    "    column_names = transactions_new_df.columns\n",
    "    print(\"Column names:\")\n",
    "    for col in column_names:\n",
    "        print(col)"
   ]
  },
  {
   "cell_type": "code",
   "execution_count": 12,
   "id": "87e3e9f3-281c-4661-9257-f3980a57571f",
   "metadata": {
    "tags": []
   },
   "outputs": [
    {
     "name": "stdout",
     "output_type": "stream",
     "text": [
      "Customer DataFrame:\n",
      "+-----------+--------------+--------------+--------------------+\n",
      "|customer_id|customer_fname|cusomter_lname|      cusomter_email|\n",
      "+-----------+--------------+--------------+--------------------+\n",
      "|      85476|         James|         Moore|james.moore@yahoo...|\n",
      "|      85510|         James|       Johnson|james.johnson@out...|\n",
      "|      85474|          Emma|       Johnson|emma.johnson@gmai...|\n",
      "|      85519|          John|        Wilson|john.wilson@hotma...|\n",
      "|      85490|           Mia|        Taylor|mia.taylor@yahoo....|\n",
      "|      85518|        Sophia|         Brown|sophia.brown@gmai...|\n",
      "|      85493|         James|       Johnson|james.johnson@gma...|\n",
      "|      85490|           Mia|        Taylor|mia.taylor@yahoo....|\n",
      "|      85538|         James|         Smith|james.smith@yahoo...|\n",
      "|      85479|         James|         Jones|james.jones@outlo...|\n",
      "|      85501|          Emma|         Smith|emma.smith@gmail....|\n",
      "|      85545|        Sophia|        Wilson|sophia.wilson@hot...|\n",
      "|      85550|          Emma|        Taylor|emma.taylor@gmail...|\n",
      "|      85529|           Mia|         Davis|mia.davis@gmail.com^|\n",
      "|      85506|           Ava|        Miller|ava.miller@yahoo....|\n",
      "|      85551|       Michael|       Johnson|michael.johnson@y...|\n",
      "|      85480|     Alexander|      Williams|alexander.william...|\n",
      "|      85497|       William|        Wilson|william.wilson@ya...|\n",
      "|      85546|     Alexander|       Johnson|alexander.johnson...|\n",
      "|      85471|           Ava|      Williams|ava.williams@outl...|\n",
      "+-----------+--------------+--------------+--------------------+\n",
      "only showing top 20 rows\n",
      "\n"
     ]
    }
   ],
   "source": [
    "# Columns to be moved to a new DataFrame\n",
    "columns_to_move = [\"customer_id\", \"customer_fname\", \"cusomter_lname\", \"cusomter_email\"]\n",
    "\n",
    "# Create a new DataFrame with the selected columns\n",
    "customer_df = transactions_new_df.select(columns_to_move)\n",
    "print(\"Customer DataFrame:\")\n",
    "customer_df.show()"
   ]
  },
  {
   "cell_type": "code",
   "execution_count": 13,
   "id": "876f41b1-b144-43c5-b3a8-765e56ba97cb",
   "metadata": {},
   "outputs": [
    {
     "name": "stdout",
     "output_type": "stream",
     "text": [
      "+-----------+--------------+--------------+--------------------+\n",
      "|customer_id|customer_fname|cusomter_lname|      cusomter_email|\n",
      "+-----------+--------------+--------------+--------------------+\n",
      "|      85476|         James|         Moore|james.moore@yahoo...|\n",
      "|      85510|         James|       Johnson|james.johnson@out...|\n",
      "|      85474|          Emma|       Johnson|emma.johnson@gmai...|\n",
      "|      85519|          John|        Wilson|john.wilson@hotma...|\n",
      "|      85490|           Mia|        Taylor|mia.taylor@yahoo....|\n",
      "|      85518|        Sophia|         Brown|sophia.brown@gmai...|\n",
      "|      85493|         James|       Johnson|james.johnson@gma...|\n",
      "|      85490|           Mia|        Taylor|mia.taylor@yahoo....|\n",
      "|      85538|         James|         Smith|james.smith@yahoo...|\n",
      "|      85479|         James|         Jones|james.jones@outlo...|\n",
      "|      85501|          Emma|         Smith|emma.smith@gmail....|\n",
      "|      85545|        Sophia|        Wilson|sophia.wilson@hot...|\n",
      "|      85550|          Emma|        Taylor|emma.taylor@gmail...|\n",
      "|      85529|           Mia|         Davis|mia.davis@gmail.com^|\n",
      "|      85506|           Ava|        Miller|ava.miller@yahoo....|\n",
      "|      85551|       Michael|       Johnson|michael.johnson@y...|\n",
      "|      85480|     Alexander|      Williams|alexander.william...|\n",
      "|      85497|       William|        Wilson|william.wilson@ya...|\n",
      "|      85546|     Alexander|       Johnson|alexander.johnson...|\n",
      "|      85471|           Ava|      Williams|ava.williams@outl...|\n",
      "+-----------+--------------+--------------+--------------------+\n",
      "only showing top 20 rows\n",
      "\n"
     ]
    }
   ],
   "source": [
    "customer_df.createOrReplaceTempView(\"customer_dim\")\n",
    "# SQL query to get the most selling products\n",
    "\n",
    "customer_dim = \"\"\"\n",
    "SELECT * FROM customer_dim\n",
    "\"\"\"\n",
    "\n",
    "customer_dim = spark.sql(customer_dim)\n",
    "\n",
    "customer_dim.show()"
   ]
  },
  {
   "cell_type": "code",
   "execution_count": 14,
   "id": "e6c5bcbf-b26a-47e1-b390-dcc798c2f713",
   "metadata": {},
   "outputs": [
    {
     "data": {
      "text/html": [
       "<table border='1'>\n",
       "<tr><th></th></tr>\n",
       "</table>\n"
      ],
      "text/plain": [
       "++\n",
       "||\n",
       "++\n",
       "++"
      ]
     },
     "execution_count": 14,
     "metadata": {},
     "output_type": "execute_result"
    }
   ],
   "source": [
    "spark.sql(\"INSERT INTO BigData_DWH.customers_dimension SELECT * FROM customer_dim\")"
   ]
  },
  {
   "cell_type": "code",
   "execution_count": 15,
   "id": "7a43b4d4-07a5-4b44-8061-789f369d3a96",
   "metadata": {
    "tags": []
   },
   "outputs": [
    {
     "name": "stdout",
     "output_type": "stream",
     "text": [
      "Customer DataFrame:\n",
      "+----------+-----------------+----------------+\n",
      "|product_id|     product_name|product_category|\n",
      "+----------+-----------------+----------------+\n",
      "|         8|         Sneakers|        Footwear|\n",
      "|        24|          Blender|      Appliances|\n",
      "|         2|       Smartphone|     Electronics|\n",
      "|        25|  Washing Machine|      Appliances|\n",
      "|         2|       Smartphone|     Electronics|\n",
      "|         9|            Boots|        Footwear|\n",
      "|         4|       Headphones|     Electronics|\n",
      "|        20|            Heels|        Footwear|\n",
      "|         2|       Smartphone|     Electronics|\n",
      "|         6|            Jeans|        Clothing|\n",
      "|        29|Hair Straightener|      Appliances|\n",
      "|         9|            Boots|        Footwear|\n",
      "|        26|   Vacuum Cleaner|      Appliances|\n",
      "|        26|   Vacuum Cleaner|      Appliances|\n",
      "|         1|           Laptop|     Electronics|\n",
      "|        19|          Sandals|        Footwear|\n",
      "|        24|          Blender|      Appliances|\n",
      "|        17|           Blouse|        Clothing|\n",
      "|        26|   Vacuum Cleaner|      Appliances|\n",
      "|         8|         Sneakers|        Footwear|\n",
      "+----------+-----------------+----------------+\n",
      "only showing top 20 rows\n",
      "\n"
     ]
    }
   ],
   "source": [
    "# Columns to be moved to a new DataFrame\n",
    "columns_to_move = [\"product_id\", \"product_name\", \"product_category\"]\n",
    "\n",
    "# Create a new DataFrame with the selected columns\n",
    "product_df = transactions_new_df.select(columns_to_move)\n",
    "print(\"Customer DataFrame:\")\n",
    "product_df.show()"
   ]
  },
  {
   "cell_type": "code",
   "execution_count": 16,
   "id": "3d6fb13a-db14-46fe-bad6-1b2b659f8e69",
   "metadata": {},
   "outputs": [],
   "source": [
    "product_df.createOrReplaceTempView(\"product_Dim\")"
   ]
  },
  {
   "cell_type": "code",
   "execution_count": 17,
   "id": "d9e3e37f-c417-48f1-aa4f-5f7aa076809f",
   "metadata": {},
   "outputs": [
    {
     "data": {
      "text/html": [
       "<table border='1'>\n",
       "<tr><th></th></tr>\n",
       "</table>\n"
      ],
      "text/plain": [
       "++\n",
       "||\n",
       "++\n",
       "++"
      ]
     },
     "execution_count": 17,
     "metadata": {},
     "output_type": "execute_result"
    }
   ],
   "source": [
    "spark.sql(\"INSERT INTO BigData_DWH.products_dimension SELECT * FROM product_Dim\")"
   ]
  },
  {
   "cell_type": "code",
   "execution_count": 18,
   "id": "4e000e84-7592-4cc8-a1e3-ea7ec1503aec",
   "metadata": {
    "tags": []
   },
   "outputs": [],
   "source": [
    "from pyspark.sql.functions import when, col, coalesce\n",
    "\n",
    "transactions_new_df = transactions_new_df.withColumn(\n",
    "    \"offer\",\n",
    "    coalesce(\n",
    "        when(col(\"offer_1\") == \"True\", \"offer_1\"),\n",
    "        when(col(\"offer_2\") == \"True\", \"offer_2\"),\n",
    "        when(col(\"offer_3\") == \"True\", \"offer_3\"),\n",
    "        when(col(\"offer_4\") == \"True\", \"offer_4\"),\n",
    "        when(col(\"offer_5\") == \"True\", \"offer_5\")\n",
    "    )\n",
    ")\n",
    "\n",
    "# Drop the original offer columns and other specified columns\n",
    "transactions_new_df = transactions_new_df.drop(\"offer_1\", \"offer_2\", \"offer_3\", \"offer_4\", \"offer_5\")"
   ]
  },
  {
   "cell_type": "code",
   "execution_count": 19,
   "id": "8bfd2ea1-4da8-448e-b843-db411b4fb00f",
   "metadata": {
    "tags": []
   },
   "outputs": [
    {
     "name": "stdout",
     "output_type": "stream",
     "text": [
      "+----------------+----------------+-----------+--------------+--------------+--------------------+--------------+---------+----------+-----------------+----------------+-----+----------+---------+--------------+--------------------+-------+\n",
      "|  transaction_id|transaction_date|customer_id|customer_fname|cusomter_lname|      cusomter_email|sales_agent_id|branch_id|product_id|     product_name|product_category|units|unit_price|is_online|payment_method|    shipping_address|  offer|\n",
      "+----------------+----------------+-----------+--------------+--------------+--------------------+--------------+---------+----------+-----------------+----------------+-----+----------+---------+--------------+--------------------+-------+\n",
      "|trx-187320333043|       2022-7-11|      85476|         James|         Moore|james.moore@yahoo...|            10|        5|         8|         Sneakers|        Footwear|    7|     79.99|       no|   Credit Card|                null|   null|\n",
      "|trx-211908445828|        2022-8-2|      85510|         James|       Johnson|james.johnson@out...|             6|        5|        24|          Blender|      Appliances|    4|     49.99|       no|   Credit Card|                null|   null|\n",
      "|trx-504748286356|       2023-5-10|      85474|          Emma|       Johnson|emma.johnson@gmai...|          null|     null|         2|       Smartphone|     Electronics|    2|    699.99|      yes|   Credit Card|104 White Street/...|   null|\n",
      "|trx-537548137090|      2023-12-14|      85519|          John|        Wilson|john.wilson@hotma...|             9|        4|        25|  Washing Machine|      Appliances|    9|    499.99|       no|          Cash|                null|offer_3|\n",
      "|trx-000112360946|        2023-9-6|      85490|           Mia|        Taylor|mia.taylor@yahoo....|          null|     null|         2|       Smartphone|     Electronics|    6|    699.99|      yes|        Stripe|5378 Allison Stre...|   null|\n",
      "|trx-065786773740|       2023-2-17|      85518|        Sophia|         Brown|sophia.brown@gmai...|             9|        3|         9|            Boots|        Footwear|    8|    129.99|       no|          Cash|                null|   null|\n",
      "|trx-111359626084|       2022-3-26|      85493|         James|       Johnson|james.johnson@gma...|             8|        1|         4|       Headphones|     Electronics|    5|     99.99|       no|   Credit Card|                null|offer_2|\n",
      "|trx-179541605067|        2023-7-9|      85490|           Mia|        Taylor|mia.taylor@yahoo....|             2|        5|        20|            Heels|        Footwear|    6|     59.99|       no|          Cash|                null|offer_1|\n",
      "|trx-197477932940|        2022-4-1|      85538|         James|         Smith|james.smith@yahoo...|             7|        5|         2|       Smartphone|     Electronics|   10|    699.99|       no|          Cash|                null|offer_4|\n",
      "|trx-334836612567|      2022-10-18|      85479|         James|         Jones|james.jones@outlo...|          null|     null|         6|            Jeans|        Clothing|    2|     49.99|      yes|        Stripe|1139 Addison Stre...|offer_3|\n",
      "|trx-569727423317|       2023-3-24|      85501|          Emma|         Smith|emma.smith@gmail....|          null|     null|        29|Hair Straightener|      Appliances|   10|     39.99|      yes|   Credit Card|2643 North Sierra...|   null|\n",
      "|trx-616637928705|       2023-7-24|      85545|        Sophia|        Wilson|sophia.wilson@hot...|          null|     null|         9|            Boots|        Footwear|    6|    129.99|      yes|        Stripe|1514 16th Street ...|offer_1|\n",
      "|trx-716638564987|        2023-7-9|      85550|          Emma|        Taylor|emma.taylor@gmail...|             4|        2|        26|   Vacuum Cleaner|      Appliances|    5|    199.99|       no|   Credit Card|                null|   null|\n",
      "|trx-746803513484|       2022-6-18|      85529|           Mia|         Davis|mia.davis@gmail.com^|          null|     null|        26|   Vacuum Cleaner|      Appliances|    8|    199.99|      yes|        Stripe|15771 West 64th A...|   null|\n",
      "|trx-901595305127|       2023-2-13|      85506|           Ava|        Miller|ava.miller@yahoo....|          null|     null|         1|           Laptop|     Electronics|    3|    999.99|      yes|   Credit Card|96 Green Manor Ro...|   null|\n",
      "|trx-964650810363|       2023-5-21|      85551|       Michael|       Johnson|michael.johnson@y...|            10|        2|        19|          Sandals|        Footwear|    7|     29.99|       no|   Credit Card|                null|offer_5|\n",
      "|trx-137783890813|      2023-10-25|      85480|     Alexander|      Williams|alexander.william...|             8|        3|        24|          Blender|      Appliances|    3|     49.99|       no|   Credit Card|                null|   null|\n",
      "|trx-155004665264|       2023-12-2|      85497|       William|        Wilson|william.wilson@ya...|             1|        3|        17|           Blouse|        Clothing|    2|     29.99|       no|   Credit Card|                null|offer_4|\n",
      "|trx-293630405793|      2022-12-13|      85546|     Alexander|       Johnson|alexander.johnson...|             5|        5|        26|   Vacuum Cleaner|      Appliances|    4|    199.99|       no|          Cash|                null|offer_2|\n",
      "|trx-311063724315|       2022-3-17|      85471|           Ava|      Williams|ava.williams@outl...|          null|     null|         8|         Sneakers|        Footwear|    3|     79.99|      yes|        Stripe|422 Richmond Stre...|offer_4|\n",
      "+----------------+----------------+-----------+--------------+--------------+--------------------+--------------+---------+----------+-----------------+----------------+-----+----------+---------+--------------+--------------------+-------+\n",
      "only showing top 20 rows\n",
      "\n",
      "Column names:\n",
      "transaction_id\n",
      "transaction_date\n",
      "customer_id\n",
      "customer_fname\n",
      "cusomter_lname\n",
      "cusomter_email\n",
      "sales_agent_id\n",
      "branch_id\n",
      "product_id\n",
      "product_name\n",
      "product_category\n",
      "units\n",
      "unit_price\n",
      "is_online\n",
      "payment_method\n",
      "shipping_address\n",
      "offer\n"
     ]
    }
   ],
   "source": [
    "# Show the transformed DataFrame\n",
    "transactions_new_df.show()\n",
    "transactions_new_df = transactions_new_df.drop(\"logs\", \"source\")\n",
    "# Get column names\n",
    "column_names = transactions_new_df.columns\n",
    "print(\"Column names:\")\n",
    "for col in column_names:\n",
    "    print(col)"
   ]
  },
  {
   "cell_type": "code",
   "execution_count": 20,
   "id": "9e55bf2c-8352-4251-8935-987cc4366c63",
   "metadata": {
    "tags": []
   },
   "outputs": [
    {
     "name": "stdout",
     "output_type": "stream",
     "text": [
      "+----------------+----------------+-----------+--------------+--------------+--------------------+--------------+---------+----------+-----------------+----------------+-----+----------+---------+--------------+--------------------+-------+------------------+\n",
      "|  transaction_id|transaction_date|customer_id|customer_fname|cusomter_lname|      cusomter_email|sales_agent_id|branch_id|product_id|     product_name|product_category|units|unit_price|is_online|payment_method|    shipping_address|  offer|       Total_price|\n",
      "+----------------+----------------+-----------+--------------+--------------+--------------------+--------------+---------+----------+-----------------+----------------+-----+----------+---------+--------------+--------------------+-------+------------------+\n",
      "|trx-187320333043|       2022-7-11|      85476|         James|         Moore|james.moore@yahoo...|            10|        5|         8|         Sneakers|        Footwear|    7|     79.99|       no|   Credit Card|                null|   null|            559.93|\n",
      "|trx-211908445828|        2022-8-2|      85510|         James|       Johnson|james.johnson@out...|             6|        5|        24|          Blender|      Appliances|    4|     49.99|       no|   Credit Card|                null|   null|            199.96|\n",
      "|trx-504748286356|       2023-5-10|      85474|          Emma|       Johnson|emma.johnson@gmai...|          null|     null|         2|       Smartphone|     Electronics|    2|    699.99|      yes|   Credit Card|104 White Street/...|   null|           1399.98|\n",
      "|trx-537548137090|      2023-12-14|      85519|          John|        Wilson|john.wilson@hotma...|             9|        4|        25|  Washing Machine|      Appliances|    9|    499.99|       no|          Cash|                null|offer_3|           4499.91|\n",
      "|trx-000112360946|        2023-9-6|      85490|           Mia|        Taylor|mia.taylor@yahoo....|          null|     null|         2|       Smartphone|     Electronics|    6|    699.99|      yes|        Stripe|5378 Allison Stre...|   null|4199.9400000000005|\n",
      "|trx-065786773740|       2023-2-17|      85518|        Sophia|         Brown|sophia.brown@gmai...|             9|        3|         9|            Boots|        Footwear|    8|    129.99|       no|          Cash|                null|   null|           1039.92|\n",
      "|trx-111359626084|       2022-3-26|      85493|         James|       Johnson|james.johnson@gma...|             8|        1|         4|       Headphones|     Electronics|    5|     99.99|       no|   Credit Card|                null|offer_2|            499.95|\n",
      "|trx-179541605067|        2023-7-9|      85490|           Mia|        Taylor|mia.taylor@yahoo....|             2|        5|        20|            Heels|        Footwear|    6|     59.99|       no|          Cash|                null|offer_1|            359.94|\n",
      "|trx-197477932940|        2022-4-1|      85538|         James|         Smith|james.smith@yahoo...|             7|        5|         2|       Smartphone|     Electronics|   10|    699.99|       no|          Cash|                null|offer_4|            6999.9|\n",
      "|trx-334836612567|      2022-10-18|      85479|         James|         Jones|james.jones@outlo...|          null|     null|         6|            Jeans|        Clothing|    2|     49.99|      yes|        Stripe|1139 Addison Stre...|offer_3|             99.98|\n",
      "|trx-569727423317|       2023-3-24|      85501|          Emma|         Smith|emma.smith@gmail....|          null|     null|        29|Hair Straightener|      Appliances|   10|     39.99|      yes|   Credit Card|2643 North Sierra...|   null|399.90000000000003|\n",
      "|trx-616637928705|       2023-7-24|      85545|        Sophia|        Wilson|sophia.wilson@hot...|          null|     null|         9|            Boots|        Footwear|    6|    129.99|      yes|        Stripe|1514 16th Street ...|offer_1|            779.94|\n",
      "|trx-716638564987|        2023-7-9|      85550|          Emma|        Taylor|emma.taylor@gmail...|             4|        2|        26|   Vacuum Cleaner|      Appliances|    5|    199.99|       no|   Credit Card|                null|   null|            999.95|\n",
      "|trx-746803513484|       2022-6-18|      85529|           Mia|         Davis|mia.davis@gmail.com^|          null|     null|        26|   Vacuum Cleaner|      Appliances|    8|    199.99|      yes|        Stripe|15771 West 64th A...|   null|           1599.92|\n",
      "|trx-901595305127|       2023-2-13|      85506|           Ava|        Miller|ava.miller@yahoo....|          null|     null|         1|           Laptop|     Electronics|    3|    999.99|      yes|   Credit Card|96 Green Manor Ro...|   null|2999.9700000000003|\n",
      "|trx-964650810363|       2023-5-21|      85551|       Michael|       Johnson|michael.johnson@y...|            10|        2|        19|          Sandals|        Footwear|    7|     29.99|       no|   Credit Card|                null|offer_5|209.92999999999998|\n",
      "|trx-137783890813|      2023-10-25|      85480|     Alexander|      Williams|alexander.william...|             8|        3|        24|          Blender|      Appliances|    3|     49.99|       no|   Credit Card|                null|   null|            149.97|\n",
      "|trx-155004665264|       2023-12-2|      85497|       William|        Wilson|william.wilson@ya...|             1|        3|        17|           Blouse|        Clothing|    2|     29.99|       no|   Credit Card|                null|offer_4|             59.98|\n",
      "|trx-293630405793|      2022-12-13|      85546|     Alexander|       Johnson|alexander.johnson...|             5|        5|        26|   Vacuum Cleaner|      Appliances|    4|    199.99|       no|          Cash|                null|offer_2|            799.96|\n",
      "|trx-311063724315|       2022-3-17|      85471|           Ava|      Williams|ava.williams@outl...|          null|     null|         8|         Sneakers|        Footwear|    3|     79.99|      yes|        Stripe|422 Richmond Stre...|offer_4|239.96999999999997|\n",
      "+----------------+----------------+-----------+--------------+--------------+--------------------+--------------+---------+----------+-----------------+----------------+-----+----------+---------+--------------+--------------------+-------+------------------+\n",
      "only showing top 20 rows\n",
      "\n"
     ]
    }
   ],
   "source": [
    "from pyspark.sql.functions import when, col, coalesce,expr\n",
    "\n",
    "# Calculate Total_price as DOUBLE\n",
    "transactions_new_df = transactions_new_df.withColumn(\n",
    "    \"Total_price\",\n",
    "     col(\"units\") * col(\"unit_price\")\n",
    ")\n",
    "\n",
    "# Show the updated DataFrame\n",
    "transactions_new_df.show()"
   ]
  },
  {
   "cell_type": "code",
   "execution_count": 21,
   "id": "b541d6da-9078-4568-bde0-9ce2b53ddbf9",
   "metadata": {
    "tags": []
   },
   "outputs": [
    {
     "name": "stdout",
     "output_type": "stream",
     "text": [
      "+----------------+----------------+-----------+--------------+--------------+--------------------+--------------+---------+----------+-----------------+----------------+-----+----------+---------+--------------+--------------------+-------+------------------+-------------------+--------------------------+\n",
      "|  transaction_id|transaction_date|customer_id|customer_fname|cusomter_lname|      cusomter_email|sales_agent_id|branch_id|product_id|     product_name|product_category|units|unit_price|is_online|payment_method|    shipping_address|  offer|       Total_price|discount_percentage|Total_price_after_discount|\n",
      "+----------------+----------------+-----------+--------------+--------------+--------------------+--------------+---------+----------+-----------------+----------------+-----+----------+---------+--------------+--------------------+-------+------------------+-------------------+--------------------------+\n",
      "|trx-187320333043|       2022-7-11|      85476|         James|         Moore|james.moore@yahoo...|            10|        5|         8|         Sneakers|        Footwear|    7|     79.99|       no|   Credit Card|                null|   null|            559.93|                0.0|                    559.93|\n",
      "|trx-211908445828|        2022-8-2|      85510|         James|       Johnson|james.johnson@out...|             6|        5|        24|          Blender|      Appliances|    4|     49.99|       no|   Credit Card|                null|   null|            199.96|                0.0|                    199.96|\n",
      "|trx-504748286356|       2023-5-10|      85474|          Emma|       Johnson|emma.johnson@gmai...|          null|     null|         2|       Smartphone|     Electronics|    2|    699.99|      yes|   Credit Card|104 White Street/...|   null|           1399.98|                0.0|                   1399.98|\n",
      "|trx-537548137090|      2023-12-14|      85519|          John|        Wilson|john.wilson@hotma...|             9|        4|        25|  Washing Machine|      Appliances|    9|    499.99|       no|          Cash|                null|offer_3|           4499.91|               0.15|                 3824.9235|\n",
      "|trx-000112360946|        2023-9-6|      85490|           Mia|        Taylor|mia.taylor@yahoo....|          null|     null|         2|       Smartphone|     Electronics|    6|    699.99|      yes|        Stripe|5378 Allison Stre...|   null|4199.9400000000005|                0.0|        4199.9400000000005|\n",
      "|trx-065786773740|       2023-2-17|      85518|        Sophia|         Brown|sophia.brown@gmai...|             9|        3|         9|            Boots|        Footwear|    8|    129.99|       no|          Cash|                null|   null|           1039.92|                0.0|                   1039.92|\n",
      "|trx-111359626084|       2022-3-26|      85493|         James|       Johnson|james.johnson@gma...|             8|        1|         4|       Headphones|     Electronics|    5|     99.99|       no|   Credit Card|                null|offer_2|            499.95|                0.1|                   449.955|\n",
      "|trx-179541605067|        2023-7-9|      85490|           Mia|        Taylor|mia.taylor@yahoo....|             2|        5|        20|            Heels|        Footwear|    6|     59.99|       no|          Cash|                null|offer_1|            359.94|               0.05|                   341.943|\n",
      "|trx-197477932940|        2022-4-1|      85538|         James|         Smith|james.smith@yahoo...|             7|        5|         2|       Smartphone|     Electronics|   10|    699.99|       no|          Cash|                null|offer_4|            6999.9|                0.2|                   5599.92|\n",
      "|trx-334836612567|      2022-10-18|      85479|         James|         Jones|james.jones@outlo...|          null|     null|         6|            Jeans|        Clothing|    2|     49.99|      yes|        Stripe|1139 Addison Stre...|offer_3|             99.98|               0.15|                    84.983|\n",
      "|trx-569727423317|       2023-3-24|      85501|          Emma|         Smith|emma.smith@gmail....|          null|     null|        29|Hair Straightener|      Appliances|   10|     39.99|      yes|   Credit Card|2643 North Sierra...|   null|399.90000000000003|                0.0|        399.90000000000003|\n",
      "|trx-616637928705|       2023-7-24|      85545|        Sophia|        Wilson|sophia.wilson@hot...|          null|     null|         9|            Boots|        Footwear|    6|    129.99|      yes|        Stripe|1514 16th Street ...|offer_1|            779.94|               0.05|                   740.943|\n",
      "|trx-716638564987|        2023-7-9|      85550|          Emma|        Taylor|emma.taylor@gmail...|             4|        2|        26|   Vacuum Cleaner|      Appliances|    5|    199.99|       no|   Credit Card|                null|   null|            999.95|                0.0|                    999.95|\n",
      "|trx-746803513484|       2022-6-18|      85529|           Mia|         Davis|mia.davis@gmail.com^|          null|     null|        26|   Vacuum Cleaner|      Appliances|    8|    199.99|      yes|        Stripe|15771 West 64th A...|   null|           1599.92|                0.0|                   1599.92|\n",
      "|trx-901595305127|       2023-2-13|      85506|           Ava|        Miller|ava.miller@yahoo....|          null|     null|         1|           Laptop|     Electronics|    3|    999.99|      yes|   Credit Card|96 Green Manor Ro...|   null|2999.9700000000003|                0.0|        2999.9700000000003|\n",
      "|trx-964650810363|       2023-5-21|      85551|       Michael|       Johnson|michael.johnson@y...|            10|        2|        19|          Sandals|        Footwear|    7|     29.99|       no|   Credit Card|                null|offer_5|209.92999999999998|               0.25|                  157.4475|\n",
      "|trx-137783890813|      2023-10-25|      85480|     Alexander|      Williams|alexander.william...|             8|        3|        24|          Blender|      Appliances|    3|     49.99|       no|   Credit Card|                null|   null|            149.97|                0.0|                    149.97|\n",
      "|trx-155004665264|       2023-12-2|      85497|       William|        Wilson|william.wilson@ya...|             1|        3|        17|           Blouse|        Clothing|    2|     29.99|       no|   Credit Card|                null|offer_4|             59.98|                0.2|                    47.984|\n",
      "|trx-293630405793|      2022-12-13|      85546|     Alexander|       Johnson|alexander.johnson...|             5|        5|        26|   Vacuum Cleaner|      Appliances|    4|    199.99|       no|          Cash|                null|offer_2|            799.96|                0.1|                   719.964|\n",
      "|trx-311063724315|       2022-3-17|      85471|           Ava|      Williams|ava.williams@outl...|          null|     null|         8|         Sneakers|        Footwear|    3|     79.99|      yes|        Stripe|422 Richmond Stre...|offer_4|239.96999999999997|                0.2|                   191.976|\n",
      "+----------------+----------------+-----------+--------------+--------------+--------------------+--------------+---------+----------+-----------------+----------------+-----+----------+---------+--------------+--------------------+-------+------------------+-------------------+--------------------------+\n",
      "only showing top 20 rows\n",
      "\n"
     ]
    }
   ],
   "source": [
    "    # Add 'discount_percentage' column\n",
    "    transactions_new_df = transactions_new_df.withColumn(\n",
    "        \"discount_percentage\",\n",
    "        when(col(\"offer\") == \"offer_1\", 0.05)\n",
    "        .when(col(\"offer\") == \"offer_2\", 0.10)\n",
    "        .when(col(\"offer\") == \"offer_3\", 0.15)\n",
    "        .when(col(\"offer\") == \"offer_4\", 0.20)\n",
    "        .when(col(\"offer\") == \"offer_5\", 0.25)\n",
    "        .otherwise(0.0)\n",
    "    )\n",
    "\n",
    "    # Add 'Total_price_paid_after_discount' column\n",
    "    transactions_new_df = transactions_new_df.withColumn(\n",
    "        \"Total_price_after_discount\",\n",
    "        col(\"Total_price\") * (1 - col(\"discount_percentage\"))\n",
    "    )\n",
    "\n",
    "    # Show the transformed DataFrame\n",
    "    transactions_new_df.show()"
   ]
  },
  {
   "cell_type": "code",
   "execution_count": 22,
   "id": "6fcf0f97-cea6-4c10-99e3-79918b819011",
   "metadata": {
    "tags": []
   },
   "outputs": [
    {
     "name": "stdout",
     "output_type": "stream",
     "text": [
      "Column names:\n",
      "transaction_id\n",
      "transaction_date\n",
      "customer_id\n",
      "customer_fname\n",
      "cusomter_lname\n",
      "cusomter_email\n",
      "sales_agent_id\n",
      "branch_id\n",
      "product_id\n",
      "product_name\n",
      "product_category\n",
      "units\n",
      "unit_price\n",
      "is_online\n",
      "payment_method\n",
      "shipping_address\n",
      "offer\n",
      "Total_price\n",
      "discount_percentage\n",
      "Total_price_after_discount\n"
     ]
    }
   ],
   "source": [
    "column_names = transactions_new_df.columns\n",
    "print(\"Column names:\")\n",
    "for col in column_names:\n",
    "    print(col)"
   ]
  },
  {
   "cell_type": "code",
   "execution_count": 23,
   "id": "158f3ccc-6482-413d-973f-2605a8020b8c",
   "metadata": {
    "tags": []
   },
   "outputs": [
    {
     "name": "stdout",
     "output_type": "stream",
     "text": [
      "orders DataFrame:\n",
      "+----------------+----------+---------+--------------+--------------------+-------+\n",
      "|  transaction_id|unit_price|is_online|payment_method|    shipping_address|  offer|\n",
      "+----------------+----------+---------+--------------+--------------------+-------+\n",
      "|trx-187320333043|     79.99|       no|   Credit Card|                null|   null|\n",
      "|trx-211908445828|     49.99|       no|   Credit Card|                null|   null|\n",
      "|trx-504748286356|    699.99|      yes|   Credit Card|104 White Street/...|   null|\n",
      "|trx-537548137090|    499.99|       no|          Cash|                null|offer_3|\n",
      "|trx-000112360946|    699.99|      yes|        Stripe|5378 Allison Stre...|   null|\n",
      "|trx-065786773740|    129.99|       no|          Cash|                null|   null|\n",
      "|trx-111359626084|     99.99|       no|   Credit Card|                null|offer_2|\n",
      "|trx-179541605067|     59.99|       no|          Cash|                null|offer_1|\n",
      "|trx-197477932940|    699.99|       no|          Cash|                null|offer_4|\n",
      "|trx-334836612567|     49.99|      yes|        Stripe|1139 Addison Stre...|offer_3|\n",
      "|trx-569727423317|     39.99|      yes|   Credit Card|2643 North Sierra...|   null|\n",
      "|trx-616637928705|    129.99|      yes|        Stripe|1514 16th Street ...|offer_1|\n",
      "|trx-716638564987|    199.99|       no|   Credit Card|                null|   null|\n",
      "|trx-746803513484|    199.99|      yes|        Stripe|15771 West 64th A...|   null|\n",
      "|trx-901595305127|    999.99|      yes|   Credit Card|96 Green Manor Ro...|   null|\n",
      "|trx-964650810363|     29.99|       no|   Credit Card|                null|offer_5|\n",
      "|trx-137783890813|     49.99|       no|   Credit Card|                null|   null|\n",
      "|trx-155004665264|     29.99|       no|   Credit Card|                null|offer_4|\n",
      "|trx-293630405793|    199.99|       no|          Cash|                null|offer_2|\n",
      "|trx-311063724315|     79.99|      yes|        Stripe|422 Richmond Stre...|offer_4|\n",
      "+----------------+----------+---------+--------------+--------------------+-------+\n",
      "only showing top 20 rows\n",
      "\n"
     ]
    }
   ],
   "source": [
    "# Columns to be moved to a new DataFrame\n",
    "columns_to_move = [\"transaction_id\", \"unit_price\", \"is_online\", \"payment_method\", \"shipping_address\", \"offer\"]\n",
    "\n",
    "# Create a new DataFrame with the selected columns\n",
    "orders_df = transactions_new_df.select(columns_to_move)\n",
    "print(\"orders DataFrame:\")\n",
    "orders_df.show()"
   ]
  },
  {
   "cell_type": "code",
   "execution_count": 24,
   "id": "dabefe1f-7ba3-4e35-a240-1f26eff4d009",
   "metadata": {},
   "outputs": [],
   "source": [
    "orders_df.createOrReplaceTempView(\"orders_Dim\")"
   ]
  },
  {
   "cell_type": "code",
   "execution_count": 25,
   "id": "89fbef0e-796e-4986-b862-7b13bc40d895",
   "metadata": {},
   "outputs": [
    {
     "data": {
      "text/html": [
       "<table border='1'>\n",
       "<tr><th></th></tr>\n",
       "</table>\n"
      ],
      "text/plain": [
       "++\n",
       "||\n",
       "++\n",
       "++"
      ]
     },
     "execution_count": 25,
     "metadata": {},
     "output_type": "execute_result"
    }
   ],
   "source": [
    "spark.sql(\"INSERT INTO BigData_DWH.orders_dimension SELECT * FROM orders_Dim\")"
   ]
  },
  {
   "cell_type": "code",
   "execution_count": 26,
   "id": "f23f792a-9d6a-4e67-aa1f-29413f8b6019",
   "metadata": {
    "tags": []
   },
   "outputs": [
    {
     "name": "stdout",
     "output_type": "stream",
     "text": [
      "+----------------+----------------+-----------+--------------+---------+----------+-----+------------------+-------------------+--------------------------+\n",
      "|transaction_date|  transaction_id|customer_id|sales_agent_id|branch_id|product_id|units|       Total_price|discount_percentage|Total_price_after_discount|\n",
      "+----------------+----------------+-----------+--------------+---------+----------+-----+------------------+-------------------+--------------------------+\n",
      "|       2022-7-11|trx-187320333043|      85476|            10|        5|         8|    7|            559.93|                0.0|                    559.93|\n",
      "|        2022-8-2|trx-211908445828|      85510|             6|        5|        24|    4|            199.96|                0.0|                    199.96|\n",
      "|       2023-5-10|trx-504748286356|      85474|          null|     null|         2|    2|           1399.98|                0.0|                   1399.98|\n",
      "|      2023-12-14|trx-537548137090|      85519|             9|        4|        25|    9|           4499.91|               0.15|                 3824.9235|\n",
      "|        2023-9-6|trx-000112360946|      85490|          null|     null|         2|    6|4199.9400000000005|                0.0|        4199.9400000000005|\n",
      "|       2023-2-17|trx-065786773740|      85518|             9|        3|         9|    8|           1039.92|                0.0|                   1039.92|\n",
      "|       2022-3-26|trx-111359626084|      85493|             8|        1|         4|    5|            499.95|                0.1|                   449.955|\n",
      "|        2023-7-9|trx-179541605067|      85490|             2|        5|        20|    6|            359.94|               0.05|                   341.943|\n",
      "|        2022-4-1|trx-197477932940|      85538|             7|        5|         2|   10|            6999.9|                0.2|                   5599.92|\n",
      "|      2022-10-18|trx-334836612567|      85479|          null|     null|         6|    2|             99.98|               0.15|                    84.983|\n",
      "|       2023-3-24|trx-569727423317|      85501|          null|     null|        29|   10|399.90000000000003|                0.0|        399.90000000000003|\n",
      "|       2023-7-24|trx-616637928705|      85545|          null|     null|         9|    6|            779.94|               0.05|                   740.943|\n",
      "|        2023-7-9|trx-716638564987|      85550|             4|        2|        26|    5|            999.95|                0.0|                    999.95|\n",
      "|       2022-6-18|trx-746803513484|      85529|          null|     null|        26|    8|           1599.92|                0.0|                   1599.92|\n",
      "|       2023-2-13|trx-901595305127|      85506|          null|     null|         1|    3|2999.9700000000003|                0.0|        2999.9700000000003|\n",
      "|       2023-5-21|trx-964650810363|      85551|            10|        2|        19|    7|209.92999999999998|               0.25|                  157.4475|\n",
      "|      2023-10-25|trx-137783890813|      85480|             8|        3|        24|    3|            149.97|                0.0|                    149.97|\n",
      "|       2023-12-2|trx-155004665264|      85497|             1|        3|        17|    2|             59.98|                0.2|                    47.984|\n",
      "|      2022-12-13|trx-293630405793|      85546|             5|        5|        26|    4|            799.96|                0.1|                   719.964|\n",
      "|       2022-3-17|trx-311063724315|      85471|          null|     null|         8|    3|239.96999999999997|                0.2|                   191.976|\n",
      "+----------------+----------------+-----------+--------------+---------+----------+-----+------------------+-------------------+--------------------------+\n",
      "only showing top 20 rows\n",
      "\n"
     ]
    }
   ],
   "source": [
    "from pyspark.sql.functions import when, col, coalesce, expr\n",
    "\n",
    "# Select only the necessary columns\n",
    "transactions_new_dsf = transactions_new_df.select(\n",
    "    \"transaction_date\",\n",
    "    \"transaction_id\",\n",
    "    \"customer_id\",\n",
    "    \"sales_agent_id\",\n",
    "    \"branch_id\",\n",
    "    \"product_id\",\n",
    "    \"units\",\n",
    "    \"Total_price\",\n",
    "    \"discount_percentage\",\n",
    "    \"Total_price_after_discount\"\n",
    ")\n",
    "transactions_new_dsf.show()\n",
    "\n",
    "# Perform casting\n",
    "transactions_new_dsf = transactions_new_dsf.withColumn(\n",
    "    \"units\",\n",
    "    col(\"units\").cast(\"int\")\n",
    ")"
   ]
  },
  {
   "cell_type": "code",
   "execution_count": 27,
   "id": "18bdba71-09cf-4ab6-a23f-5d8bdb7cc3c0",
   "metadata": {},
   "outputs": [],
   "source": [
    "transactions_new_dsf.createOrReplaceTempView(\"transactions_Fact\")\n",
    "branches_new_df.createOrReplaceTempView(\"branches_view\")\n",
    "agents_new_df.createOrReplaceTempView(\"agents_view\")"
   ]
  },
  {
   "cell_type": "code",
   "execution_count": 28,
   "id": "b33e35e4-4293-4ee1-9db2-9f4f0064b5a1",
   "metadata": {},
   "outputs": [
    {
     "data": {
      "text/html": [
       "<table border='1'>\n",
       "<tr><th></th></tr>\n",
       "</table>\n"
      ],
      "text/plain": [
       "++\n",
       "||\n",
       "++\n",
       "++"
      ]
     },
     "execution_count": 28,
     "metadata": {},
     "output_type": "execute_result"
    }
   ],
   "source": [
    "spark.sql(\"\"\"\n",
    "    INSERT INTO BigData_DWH.Transactions_Fact_table\n",
    "    PARTITION (transaction_date)\n",
    "    SELECT\n",
    "        transaction_id,\n",
    "        customer_id,\n",
    "        sales_agent_id,\n",
    "        branch_id,\n",
    "        product_id,\n",
    "        units,\n",
    "        Total_price,\n",
    "        discount_percentage,\n",
    "        Total_price_after_discount,\n",
    "        transaction_date\n",
    "    FROM transactions_Fact\n",
    "\"\"\")"
   ]
  },
  {
   "cell_type": "code",
   "execution_count": 29,
   "id": "684f31a0-2602-47b0-9edb-c6ef7166c0b2",
   "metadata": {},
   "outputs": [
    {
     "data": {
      "text/html": [
       "<table border='1'>\n",
       "<tr><th></th></tr>\n",
       "</table>\n"
      ],
      "text/plain": [
       "++\n",
       "||\n",
       "++\n",
       "++"
      ]
     },
     "execution_count": 29,
     "metadata": {},
     "output_type": "execute_result"
    }
   ],
   "source": [
    "spark.sql(\"INSERT INTO BigData_DWH.branches_dimension SELECT * FROM branches_view\")\n"
   ]
  },
  {
   "cell_type": "code",
   "execution_count": 30,
   "id": "b11e3d6f-d33f-45cd-928a-aed2ae9190c1",
   "metadata": {},
   "outputs": [
    {
     "data": {
      "text/html": [
       "<table border='1'>\n",
       "<tr><th></th></tr>\n",
       "</table>\n"
      ],
      "text/plain": [
       "++\n",
       "||\n",
       "++\n",
       "++"
      ]
     },
     "execution_count": 30,
     "metadata": {},
     "output_type": "execute_result"
    }
   ],
   "source": [
    "spark.sql(\"INSERT INTO BigData_DWH.sales_agents_dimension SELECT * FROM agents_view\")"
   ]
  },
  {
   "cell_type": "code",
   "execution_count": 31,
   "id": "08bc9ebd-9991-405f-a252-5e173d24162a",
   "metadata": {},
   "outputs": [],
   "source": [
    "# Stop Spark session\n",
    "spark.stop()"
   ]
  },
  {
   "cell_type": "code",
   "execution_count": null,
   "id": "84f9849d-f9c0-41ed-af1c-7a0b7362568c",
   "metadata": {},
   "outputs": [],
   "source": []
  },
  {
   "cell_type": "code",
   "execution_count": null,
   "id": "cb2b3d8f-4da4-4a0c-af38-eb644eac672c",
   "metadata": {},
   "outputs": [],
   "source": []
  },
  {
   "cell_type": "code",
   "execution_count": null,
   "id": "c3f20861-8cbe-4f96-8d70-67263a92c5b8",
   "metadata": {},
   "outputs": [],
   "source": []
  },
  {
   "cell_type": "code",
   "execution_count": null,
   "id": "7b570f76-f894-42a3-bb39-521591447cdb",
   "metadata": {},
   "outputs": [],
   "source": []
  },
  {
   "cell_type": "code",
   "execution_count": null,
   "id": "95bc5468-ca53-43ab-ad96-56ec580d844c",
   "metadata": {},
   "outputs": [],
   "source": []
  },
  {
   "cell_type": "code",
   "execution_count": null,
   "id": "28b998c8-3c92-4d65-8a28-ae1a4efae345",
   "metadata": {},
   "outputs": [],
   "source": []
  },
  {
   "cell_type": "code",
   "execution_count": null,
   "id": "556c4fab-e3b8-42e5-a25a-d8a830218177",
   "metadata": {},
   "outputs": [],
   "source": []
  },
  {
   "cell_type": "code",
   "execution_count": null,
   "id": "38133384-ca8a-4a19-bf34-a9ba2b3fb78c",
   "metadata": {},
   "outputs": [],
   "source": []
  },
  {
   "cell_type": "code",
   "execution_count": null,
   "id": "333e12a1-5558-4351-a565-f4c9ec75e6b2",
   "metadata": {},
   "outputs": [],
   "source": []
  },
  {
   "cell_type": "code",
   "execution_count": null,
   "id": "4f83639c-20ec-4110-8659-0a9d596a467a",
   "metadata": {},
   "outputs": [],
   "source": []
  },
  {
   "cell_type": "code",
   "execution_count": null,
   "id": "ba83db97-6570-4993-9611-5aa33cd5377d",
   "metadata": {},
   "outputs": [],
   "source": []
  }
 ],
 "metadata": {
  "kernelspec": {
   "display_name": "Pyspark 3",
   "language": "python",
   "name": "pyspark3"
  },
  "language_info": {
   "codemirror_mode": {
    "name": "ipython",
    "version": 3
   },
   "file_extension": ".py",
   "mimetype": "text/x-python",
   "name": "python",
   "nbconvert_exporter": "python",
   "pygments_lexer": "ipython3",
   "version": "3.6.9"
  }
 },
 "nbformat": 4,
 "nbformat_minor": 5
}
